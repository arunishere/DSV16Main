{
 "cells": [
  {
   "cell_type": "code",
   "execution_count": null,
   "metadata": {},
   "outputs": [],
   "source": [
    "'''\n",
    "1. Line Chart (Trends)\n",
    "2. Histogram (Frequencies)\n",
    "3. Scatter Plot (Relationships)\n",
    "4. Box plot (Dispersion)\n",
    "5. Bar Plot\n",
    "6. Volin Plot \n",
    "7. Misc\n",
    "\n",
    "'''\n",
    "\n",
    "\n",
    "\n"
   ]
  }
 ],
 "metadata": {
  "language_info": {
   "name": "python"
  }
 },
 "nbformat": 4,
 "nbformat_minor": 2
}
